{
 "cells": [
  {
   "cell_type": "code",
   "execution_count": 1,
   "id": "laden-improvement",
   "metadata": {},
   "outputs": [],
   "source": [
    "from SPARQLWrapper import SPARQLWrapper, JSON\n",
    "import pandas as pd\n",
    "import numpy as np\n",
    "import traceback"
   ]
  },
  {
   "cell_type": "code",
   "execution_count": 2,
   "id": "furnished-motel",
   "metadata": {},
   "outputs": [],
   "source": [
    "data_test=pd.read_csv(\"SNLP_2020_test.nt\",sep=\" \",names=[\"1\",\"2\",\"3\",\".\"])"
   ]
  },
  {
   "cell_type": "code",
   "execution_count": 3,
   "id": "sharing-blank",
   "metadata": {},
   "outputs": [
    {
     "data": {
      "text/html": [
       "<div>\n",
       "<style scoped>\n",
       "    .dataframe tbody tr th:only-of-type {\n",
       "        vertical-align: middle;\n",
       "    }\n",
       "\n",
       "    .dataframe tbody tr th {\n",
       "        vertical-align: top;\n",
       "    }\n",
       "\n",
       "    .dataframe thead th {\n",
       "        text-align: right;\n",
       "    }\n",
       "</style>\n",
       "<table border=\"1\" class=\"dataframe\">\n",
       "  <thead>\n",
       "    <tr style=\"text-align: right;\">\n",
       "      <th></th>\n",
       "      <th>1</th>\n",
       "      <th>2</th>\n",
       "      <th>3</th>\n",
       "      <th>.</th>\n",
       "    </tr>\n",
       "  </thead>\n",
       "  <tbody>\n",
       "    <tr>\n",
       "      <th>0</th>\n",
       "      <td>&lt;http://swc2017.aksw.org/task2/dataset/3417193&gt;</td>\n",
       "      <td>&lt;http://www.w3.org/1999/02/22-rdf-syntax-ns#type&gt;</td>\n",
       "      <td>&lt;http://www.w3.org/1999/02/22-rdf-syntax-ns#St...</td>\n",
       "      <td>.</td>\n",
       "    </tr>\n",
       "    <tr>\n",
       "      <th>1</th>\n",
       "      <td>&lt;http://swc2017.aksw.org/task2/dataset/3417193&gt;</td>\n",
       "      <td>&lt;http://www.w3.org/1999/02/22-rdf-syntax-ns#su...</td>\n",
       "      <td>&lt;http://dbpedia.org/resource/Philip_Wylie&gt;</td>\n",
       "      <td>.</td>\n",
       "    </tr>\n",
       "    <tr>\n",
       "      <th>2</th>\n",
       "      <td>&lt;http://swc2017.aksw.org/task2/dataset/3417193&gt;</td>\n",
       "      <td>&lt;http://www.w3.org/1999/02/22-rdf-syntax-ns#pr...</td>\n",
       "      <td>&lt;http://dbpedia.org/ontology/author&gt;</td>\n",
       "      <td>.</td>\n",
       "    </tr>\n",
       "    <tr>\n",
       "      <th>3</th>\n",
       "      <td>&lt;http://swc2017.aksw.org/task2/dataset/3417193&gt;</td>\n",
       "      <td>&lt;http://www.w3.org/1999/02/22-rdf-syntax-ns#ob...</td>\n",
       "      <td>&lt;http://dbpedia.org/resource/When_Worlds_Collide&gt;</td>\n",
       "      <td>.</td>\n",
       "    </tr>\n",
       "    <tr>\n",
       "      <th>4</th>\n",
       "      <td>&lt;http://swc2017.aksw.org/task2/dataset/3812648&gt;</td>\n",
       "      <td>&lt;http://www.w3.org/1999/02/22-rdf-syntax-ns#type&gt;</td>\n",
       "      <td>&lt;http://www.w3.org/1999/02/22-rdf-syntax-ns#St...</td>\n",
       "      <td>.</td>\n",
       "    </tr>\n",
       "  </tbody>\n",
       "</table>\n",
       "</div>"
      ],
      "text/plain": [
       "                                                 1  \\\n",
       "0  <http://swc2017.aksw.org/task2/dataset/3417193>   \n",
       "1  <http://swc2017.aksw.org/task2/dataset/3417193>   \n",
       "2  <http://swc2017.aksw.org/task2/dataset/3417193>   \n",
       "3  <http://swc2017.aksw.org/task2/dataset/3417193>   \n",
       "4  <http://swc2017.aksw.org/task2/dataset/3812648>   \n",
       "\n",
       "                                                   2  \\\n",
       "0  <http://www.w3.org/1999/02/22-rdf-syntax-ns#type>   \n",
       "1  <http://www.w3.org/1999/02/22-rdf-syntax-ns#su...   \n",
       "2  <http://www.w3.org/1999/02/22-rdf-syntax-ns#pr...   \n",
       "3  <http://www.w3.org/1999/02/22-rdf-syntax-ns#ob...   \n",
       "4  <http://www.w3.org/1999/02/22-rdf-syntax-ns#type>   \n",
       "\n",
       "                                                   3  .  \n",
       "0  <http://www.w3.org/1999/02/22-rdf-syntax-ns#St...  .  \n",
       "1         <http://dbpedia.org/resource/Philip_Wylie>  .  \n",
       "2               <http://dbpedia.org/ontology/author>  .  \n",
       "3  <http://dbpedia.org/resource/When_Worlds_Collide>  .  \n",
       "4  <http://www.w3.org/1999/02/22-rdf-syntax-ns#St...  .  "
      ]
     },
     "execution_count": 3,
     "metadata": {},
     "output_type": "execute_result"
    }
   ],
   "source": [
    "data_test.head()\n"
   ]
  },
  {
   "cell_type": "code",
   "execution_count": 4,
   "id": "downtown-federation",
   "metadata": {},
   "outputs": [],
   "source": [
    "def check(s,o,sparql):\n",
    "    sparql.setQuery(\n",
    "        \"SELECT ?a WHERE { \"+s.replace(\",\",\"\")+\" <http://dbpedia.org/ontology/abstract> ?a FILTER (  langMatches(lang(?a),'en') )}\")\n",
    "    sparql.setReturnFormat(JSON)\n",
    "    try:\n",
    "        results = sparql.query().convert()[\"results\"][\"bindings\"][0][\"a\"][\"value\"]\n",
    "    except:\n",
    "        print(\"error\")\n",
    "        print(s,o)\n",
    "        traceback.print_exc()\n",
    "\n",
    "        sparql.setQuery(\n",
    "        \"SELECT ?a WHERE { \"+s+\" <http://dbpedia.org/ontology/abstract> ?a FILTER (  langMatches(lang(?a),'en') )}\")\n",
    "        sparql.setReturnFormat(JSON)\n",
    "        try:\n",
    "            results = sparql.query().convert()[\"results\"][\"bindings\"][0][\"a\"][\"value\"]\n",
    "            print(\" worked \")\n",
    "        except:\n",
    "            print(\"error\")\n",
    "            print(s,o)\n",
    "        \n",
    "            results=\"bla bla bla\"\n",
    "    str_to_search=o.split(\"/\")[-1][:-1].replace(\"_\",\" \")\n",
    "    if str_to_search in results:\n",
    "        return \"1.0\"\n",
    "    else:\n",
    "        return \"0.0\"\n",
    "    "
   ]
  },
  {
   "cell_type": "code",
   "execution_count": 5,
   "id": "rocky-skirt",
   "metadata": {
    "scrolled": true
   },
   "outputs": [
    {
     "name": "stdout",
     "output_type": "stream",
     "text": [
      "0\n",
      "50\n",
      "error\n",
      "<http://dbpedia.org/resource/John_Strutt,_3rd_Baron_Rayleigh> <http://dbpedia.org/resource/Nobel_Prize_in_Literature>\n",
      "error\n",
      "<http://dbpedia.org/resource/John_Strutt,_3rd_Baron_Rayleigh> <http://dbpedia.org/resource/Nobel_Prize_in_Literature>\n"
     ]
    },
    {
     "name": "stderr",
     "output_type": "stream",
     "text": [
      "Traceback (most recent call last):\n",
      "  File \"<ipython-input-4-294ede50fe47>\", line 6, in check\n",
      "    results = sparql.query().convert()[\"results\"][\"bindings\"][0][\"a\"][\"value\"]\n",
      "IndexError: list index out of range\n"
     ]
    },
    {
     "name": "stdout",
     "output_type": "stream",
     "text": [
      "100\n",
      "150\n",
      "200\n",
      "250\n",
      "error\n",
      "<http://dbpedia.org/resource/Temenos_Group> <http://dbpedia.org/resource/Princeton_Junction,_New_Jersey>\n",
      "error\n",
      "<http://dbpedia.org/resource/Temenos_Group> <http://dbpedia.org/resource/Princeton_Junction,_New_Jersey>\n"
     ]
    },
    {
     "name": "stderr",
     "output_type": "stream",
     "text": [
      "Traceback (most recent call last):\n",
      "  File \"<ipython-input-4-294ede50fe47>\", line 6, in check\n",
      "    results = sparql.query().convert()[\"results\"][\"bindings\"][0][\"a\"][\"value\"]\n",
      "IndexError: list index out of range\n"
     ]
    },
    {
     "name": "stdout",
     "output_type": "stream",
     "text": [
      "error\n",
      "<http://dbpedia.org/resource/Mike_Miller_(basketball_player)> <http://dbpedia.org/resource/Los_Angeles_Clippers>\n",
      "error\n",
      "<http://dbpedia.org/resource/Mike_Miller_(basketball_player)> <http://dbpedia.org/resource/Los_Angeles_Clippers>\n"
     ]
    },
    {
     "name": "stderr",
     "output_type": "stream",
     "text": [
      "Traceback (most recent call last):\n",
      "  File \"<ipython-input-4-294ede50fe47>\", line 6, in check\n",
      "    results = sparql.query().convert()[\"results\"][\"bindings\"][0][\"a\"][\"value\"]\n",
      "IndexError: list index out of range\n"
     ]
    },
    {
     "name": "stdout",
     "output_type": "stream",
     "text": [
      "300\n",
      "350\n",
      "error\n",
      "<http://dbpedia.org/resource/G_Data> <http://dbpedia.org/resource/Sunnyvale,_California>\n",
      "error\n",
      "<http://dbpedia.org/resource/G_Data> <http://dbpedia.org/resource/Sunnyvale,_California>\n"
     ]
    },
    {
     "name": "stderr",
     "output_type": "stream",
     "text": [
      "Traceback (most recent call last):\n",
      "  File \"<ipython-input-4-294ede50fe47>\", line 6, in check\n",
      "    results = sparql.query().convert()[\"results\"][\"bindings\"][0][\"a\"][\"value\"]\n",
      "IndexError: list index out of range\n"
     ]
    },
    {
     "name": "stdout",
     "output_type": "stream",
     "text": [
      "400\n",
      "450\n",
      "error\n",
      "<http://dbpedia.org/resource/Palm,_Inc.> <http://dbpedia.org/resource/Newcastle_upon_Tyne>\n"
     ]
    },
    {
     "name": "stderr",
     "output_type": "stream",
     "text": [
      "Traceback (most recent call last):\n",
      "  File \"<ipython-input-4-294ede50fe47>\", line 6, in check\n",
      "    results = sparql.query().convert()[\"results\"][\"bindings\"][0][\"a\"][\"value\"]\n",
      "IndexError: list index out of range\n"
     ]
    },
    {
     "name": "stdout",
     "output_type": "stream",
     "text": [
      " worked \n",
      "500\n",
      "error\n",
      "<http://dbpedia.org/resource/Albert_Abraham_Michelson> <http://dbpedia.org/resource/Nobel_Prize_in_Literature>\n"
     ]
    },
    {
     "name": "stderr",
     "output_type": "stream",
     "text": [
      "Traceback (most recent call last):\n",
      "  File \"<ipython-input-4-294ede50fe47>\", line 6, in check\n",
      "    results = sparql.query().convert()[\"results\"][\"bindings\"][0][\"a\"][\"value\"]\n",
      "IndexError: list index out of range\n"
     ]
    },
    {
     "name": "stdout",
     "output_type": "stream",
     "text": [
      "error\n",
      "<http://dbpedia.org/resource/Albert_Abraham_Michelson> <http://dbpedia.org/resource/Nobel_Prize_in_Literature>\n",
      "error\n",
      "<http://dbpedia.org/resource/Albert_VII,_Archduke_of_Austria> <http://dbpedia.org/resource/Wiener_Neustadt>\n",
      " worked \n"
     ]
    },
    {
     "name": "stderr",
     "output_type": "stream",
     "text": [
      "Traceback (most recent call last):\n",
      "  File \"<ipython-input-4-294ede50fe47>\", line 6, in check\n",
      "    results = sparql.query().convert()[\"results\"][\"bindings\"][0][\"a\"][\"value\"]\n",
      "IndexError: list index out of range\n"
     ]
    },
    {
     "name": "stdout",
     "output_type": "stream",
     "text": [
      "550\n",
      "600\n",
      "error\n",
      "<http://dbpedia.org/resource/Temenos_Group> <http://dbpedia.org/resource/Kettering>\n",
      "error\n",
      "<http://dbpedia.org/resource/Temenos_Group> <http://dbpedia.org/resource/Kettering>\n"
     ]
    },
    {
     "name": "stderr",
     "output_type": "stream",
     "text": [
      "Traceback (most recent call last):\n",
      "  File \"<ipython-input-4-294ede50fe47>\", line 6, in check\n",
      "    results = sparql.query().convert()[\"results\"][\"bindings\"][0][\"a\"][\"value\"]\n",
      "IndexError: list index out of range\n"
     ]
    },
    {
     "name": "stdout",
     "output_type": "stream",
     "text": [
      "650\n",
      "error\n",
      "<http://dbpedia.org/resource/Harry_Harrison> <http://dbpedia.org/resource/The_Jesus_Incident>\n"
     ]
    },
    {
     "name": "stderr",
     "output_type": "stream",
     "text": [
      "Traceback (most recent call last):\n",
      "  File \"<ipython-input-4-294ede50fe47>\", line 6, in check\n",
      "    results = sparql.query().convert()[\"results\"][\"bindings\"][0][\"a\"][\"value\"]\n",
      "IndexError: list index out of range\n"
     ]
    },
    {
     "name": "stdout",
     "output_type": "stream",
     "text": [
      "error\n",
      "<http://dbpedia.org/resource/Harry_Harrison> <http://dbpedia.org/resource/The_Jesus_Incident>\n",
      "700\n",
      "error\n",
      "<http://dbpedia.org/resource/Monte_Morris> <http://dbpedia.org/resource/Iowa_State_Cyclones_men's_basketball>\n",
      "error\n",
      "<http://dbpedia.org/resource/Monte_Morris> <http://dbpedia.org/resource/Iowa_State_Cyclones_men's_basketball>\n"
     ]
    },
    {
     "name": "stderr",
     "output_type": "stream",
     "text": [
      "Traceback (most recent call last):\n",
      "  File \"<ipython-input-4-294ede50fe47>\", line 6, in check\n",
      "    results = sparql.query().convert()[\"results\"][\"bindings\"][0][\"a\"][\"value\"]\n",
      "IndexError: list index out of range\n"
     ]
    },
    {
     "name": "stdout",
     "output_type": "stream",
     "text": [
      "error\n",
      "<http://dbpedia.org/resource/Symantec> <http://dbpedia.org/resource/Sunnyvale,_California>\n",
      "error\n",
      "<http://dbpedia.org/resource/Symantec> <http://dbpedia.org/resource/Sunnyvale,_California>\n"
     ]
    },
    {
     "name": "stderr",
     "output_type": "stream",
     "text": [
      "Traceback (most recent call last):\n",
      "  File \"<ipython-input-4-294ede50fe47>\", line 6, in check\n",
      "    results = sparql.query().convert()[\"results\"][\"bindings\"][0][\"a\"][\"value\"]\n",
      "IndexError: list index out of range\n"
     ]
    },
    {
     "name": "stdout",
     "output_type": "stream",
     "text": [
      "750\n",
      "800\n",
      "error\n",
      "<http://dbpedia.org/resource/Cornelis_Janssens_van_Ceulen> <http://dbpedia.org/resource/London>\n",
      "error\n",
      "<http://dbpedia.org/resource/Cornelis_Janssens_van_Ceulen> <http://dbpedia.org/resource/London>\n"
     ]
    },
    {
     "name": "stderr",
     "output_type": "stream",
     "text": [
      "Traceback (most recent call last):\n",
      "  File \"<ipython-input-4-294ede50fe47>\", line 6, in check\n",
      "    results = sparql.query().convert()[\"results\"][\"bindings\"][0][\"a\"][\"value\"]\n",
      "IndexError: list index out of range\n"
     ]
    },
    {
     "name": "stdout",
     "output_type": "stream",
     "text": [
      "850\n",
      "900\n",
      "950\n",
      "error\n",
      "<http://dbpedia.org/resource/Cornelis_Janssens_van_Ceulen> <http://dbpedia.org/resource/Utrecht>\n",
      "error\n",
      "<http://dbpedia.org/resource/Cornelis_Janssens_van_Ceulen> <http://dbpedia.org/resource/Utrecht>\n"
     ]
    },
    {
     "name": "stderr",
     "output_type": "stream",
     "text": [
      "Traceback (most recent call last):\n",
      "  File \"<ipython-input-4-294ede50fe47>\", line 6, in check\n",
      "    results = sparql.query().convert()[\"results\"][\"bindings\"][0][\"a\"][\"value\"]\n",
      "IndexError: list index out of range\n"
     ]
    },
    {
     "name": "stdout",
     "output_type": "stream",
     "text": [
      "1000\n",
      "1050\n",
      "1100\n",
      "1150\n",
      "error\n",
      "<http://dbpedia.org/resource/Christina,_Queen_of_Sweden> <http://dbpedia.org/resource/Stockholm>\n"
     ]
    },
    {
     "name": "stderr",
     "output_type": "stream",
     "text": [
      "Traceback (most recent call last):\n",
      "  File \"<ipython-input-4-294ede50fe47>\", line 6, in check\n",
      "    results = sparql.query().convert()[\"results\"][\"bindings\"][0][\"a\"][\"value\"]\n",
      "IndexError: list index out of range\n"
     ]
    },
    {
     "name": "stdout",
     "output_type": "stream",
     "text": [
      " worked \n",
      "1200\n",
      "1250\n",
      "1300\n",
      "error\n",
      "<http://dbpedia.org/resource/Zauber> <http://dbpedia.org/resource/Buenos_Aires>\n"
     ]
    },
    {
     "name": "stderr",
     "output_type": "stream",
     "text": [
      "Traceback (most recent call last):\n",
      "  File \"<ipython-input-4-294ede50fe47>\", line 6, in check\n",
      "    results = sparql.query().convert()[\"results\"][\"bindings\"][0][\"a\"][\"value\"]\n",
      "IndexError: list index out of range\n"
     ]
    },
    {
     "name": "stdout",
     "output_type": "stream",
     "text": [
      "error\n",
      "<http://dbpedia.org/resource/Zauber> <http://dbpedia.org/resource/Buenos_Aires>\n",
      "1350\n",
      "error\n",
      "<http://dbpedia.org/resource/%C5%9Eebnem_Dönmez> <http://dbpedia.org/resource/Ezel_Akay>\n"
     ]
    },
    {
     "name": "stderr",
     "output_type": "stream",
     "text": [
      "Traceback (most recent call last):\n",
      "  File \"<ipython-input-4-294ede50fe47>\", line 6, in check\n",
      "    results = sparql.query().convert()[\"results\"][\"bindings\"][0][\"a\"][\"value\"]\n",
      "IndexError: list index out of range\n"
     ]
    },
    {
     "name": "stdout",
     "output_type": "stream",
     "text": [
      "error\n",
      "<http://dbpedia.org/resource/%C5%9Eebnem_Dönmez> <http://dbpedia.org/resource/Ezel_Akay>\n",
      "error\n",
      "<http://dbpedia.org/resource/Redxpress> <http://dbpedia.org/resource/California>\n"
     ]
    },
    {
     "name": "stderr",
     "output_type": "stream",
     "text": [
      "Traceback (most recent call last):\n",
      "  File \"<ipython-input-4-294ede50fe47>\", line 6, in check\n",
      "    results = sparql.query().convert()[\"results\"][\"bindings\"][0][\"a\"][\"value\"]\n",
      "IndexError: list index out of range\n"
     ]
    },
    {
     "name": "stdout",
     "output_type": "stream",
     "text": [
      "error\n",
      "<http://dbpedia.org/resource/Redxpress> <http://dbpedia.org/resource/California>\n",
      "1400\n",
      "error\n",
      "<http://dbpedia.org/resource/Albert_VII,_Archduke_of_Austria> <http://dbpedia.org/resource/Brussels>\n",
      " worked \n"
     ]
    },
    {
     "name": "stderr",
     "output_type": "stream",
     "text": [
      "Traceback (most recent call last):\n",
      "  File \"<ipython-input-4-294ede50fe47>\", line 6, in check\n",
      "    results = sparql.query().convert()[\"results\"][\"bindings\"][0][\"a\"][\"value\"]\n",
      "IndexError: list index out of range\n"
     ]
    },
    {
     "name": "stdout",
     "output_type": "stream",
     "text": [
      "1450\n",
      "error\n",
      "<http://dbpedia.org/resource/SNP_Schneider-Neureither_&_Partner_AG> <http://dbpedia.org/resource/Heidelberg>\n"
     ]
    },
    {
     "name": "stderr",
     "output_type": "stream",
     "text": [
      "Traceback (most recent call last):\n",
      "  File \"<ipython-input-4-294ede50fe47>\", line 6, in check\n",
      "    results = sparql.query().convert()[\"results\"][\"bindings\"][0][\"a\"][\"value\"]\n",
      "IndexError: list index out of range\n"
     ]
    },
    {
     "name": "stdout",
     "output_type": "stream",
     "text": [
      "error\n",
      "<http://dbpedia.org/resource/SNP_Schneider-Neureither_&_Partner_AG> <http://dbpedia.org/resource/Heidelberg>\n",
      "1500\n",
      "1550\n",
      "error\n",
      "<http://dbpedia.org/resource/P.J._Washington> <http://dbpedia.org/resource/Charlotte_Hornets>\n"
     ]
    },
    {
     "name": "stderr",
     "output_type": "stream",
     "text": [
      "Traceback (most recent call last):\n",
      "  File \"<ipython-input-4-294ede50fe47>\", line 6, in check\n",
      "    results = sparql.query().convert()[\"results\"][\"bindings\"][0][\"a\"][\"value\"]\n",
      "IndexError: list index out of range\n"
     ]
    },
    {
     "name": "stdout",
     "output_type": "stream",
     "text": [
      "error\n",
      "<http://dbpedia.org/resource/P.J._Washington> <http://dbpedia.org/resource/Charlotte_Hornets>\n",
      "1600\n",
      "error\n",
      "<http://dbpedia.org/resource/Francis_II,_Holy_Roman_Emperor> <http://dbpedia.org/resource/Florence>\n",
      " worked \n"
     ]
    },
    {
     "name": "stderr",
     "output_type": "stream",
     "text": [
      "Traceback (most recent call last):\n",
      "  File \"<ipython-input-4-294ede50fe47>\", line 6, in check\n",
      "    results = sparql.query().convert()[\"results\"][\"bindings\"][0][\"a\"][\"value\"]\n",
      "IndexError: list index out of range\n"
     ]
    },
    {
     "name": "stdout",
     "output_type": "stream",
     "text": [
      "1650\n",
      "error\n",
      "<http://dbpedia.org/resource/Beyoncé_Knowles> <http://dbpedia.org/resource/Houston>\n",
      "error\n",
      "<http://dbpedia.org/resource/Beyoncé_Knowles> <http://dbpedia.org/resource/Houston>\n"
     ]
    },
    {
     "name": "stderr",
     "output_type": "stream",
     "text": [
      "Traceback (most recent call last):\n",
      "  File \"<ipython-input-4-294ede50fe47>\", line 6, in check\n",
      "    results = sparql.query().convert()[\"results\"][\"bindings\"][0][\"a\"][\"value\"]\n",
      "IndexError: list index out of range\n"
     ]
    },
    {
     "name": "stdout",
     "output_type": "stream",
     "text": [
      "error\n",
      "<http://dbpedia.org/resource/QlikTech> <http://dbpedia.org/resource/Mill_Valley,_California>\n",
      "error\n",
      "<http://dbpedia.org/resource/QlikTech> <http://dbpedia.org/resource/Mill_Valley,_California>\n"
     ]
    },
    {
     "name": "stderr",
     "output_type": "stream",
     "text": [
      "Traceback (most recent call last):\n",
      "  File \"<ipython-input-4-294ede50fe47>\", line 6, in check\n",
      "    results = sparql.query().convert()[\"results\"][\"bindings\"][0][\"a\"][\"value\"]\n",
      "IndexError: list index out of range\n"
     ]
    },
    {
     "name": "stdout",
     "output_type": "stream",
     "text": [
      "1700\n",
      "error\n",
      "<http://dbpedia.org/resource/Stephen_Baxter> <http://dbpedia.org/resource/Time's_Eye_(novel)>\n",
      "error\n",
      "<http://dbpedia.org/resource/Stephen_Baxter> <http://dbpedia.org/resource/Time's_Eye_(novel)>\n"
     ]
    },
    {
     "name": "stderr",
     "output_type": "stream",
     "text": [
      "Traceback (most recent call last):\n",
      "  File \"<ipython-input-4-294ede50fe47>\", line 6, in check\n",
      "    results = sparql.query().convert()[\"results\"][\"bindings\"][0][\"a\"][\"value\"]\n",
      "IndexError: list index out of range\n"
     ]
    },
    {
     "name": "stdout",
     "output_type": "stream",
     "text": [
      "1750\n",
      "error\n",
      "<http://dbpedia.org/resource/Edward_Bulwer-Lytton,_1st_Baron_Lytton> <http://dbpedia.org/resource/First_Landing>\n",
      "error\n",
      "<http://dbpedia.org/resource/Edward_Bulwer-Lytton,_1st_Baron_Lytton> <http://dbpedia.org/resource/First_Landing>\n"
     ]
    },
    {
     "name": "stderr",
     "output_type": "stream",
     "text": [
      "Traceback (most recent call last):\n",
      "  File \"<ipython-input-4-294ede50fe47>\", line 6, in check\n",
      "    results = sparql.query().convert()[\"results\"][\"bindings\"][0][\"a\"][\"value\"]\n",
      "IndexError: list index out of range\n"
     ]
    },
    {
     "name": "stdout",
     "output_type": "stream",
     "text": [
      "error\n",
      "<http://dbpedia.org/resource/Hillary_Rodham_Clinton> <http://dbpedia.org/resource/Chicago>\n"
     ]
    },
    {
     "name": "stderr",
     "output_type": "stream",
     "text": [
      "Traceback (most recent call last):\n",
      "  File \"<ipython-input-4-294ede50fe47>\", line 6, in check\n",
      "    results = sparql.query().convert()[\"results\"][\"bindings\"][0][\"a\"][\"value\"]\n",
      "IndexError: list index out of range\n"
     ]
    },
    {
     "name": "stdout",
     "output_type": "stream",
     "text": [
      "error\n",
      "<http://dbpedia.org/resource/Hillary_Rodham_Clinton> <http://dbpedia.org/resource/Chicago>\n",
      "1800\n",
      "error\n",
      "<http://dbpedia.org/resource/Diana,_Princess_of_Wales> <http://dbpedia.org/resource/Paris>\n"
     ]
    },
    {
     "name": "stderr",
     "output_type": "stream",
     "text": [
      "Traceback (most recent call last):\n",
      "  File \"<ipython-input-4-294ede50fe47>\", line 6, in check\n",
      "    results = sparql.query().convert()[\"results\"][\"bindings\"][0][\"a\"][\"value\"]\n",
      "IndexError: list index out of range\n"
     ]
    },
    {
     "name": "stdout",
     "output_type": "stream",
     "text": [
      " worked \n",
      "1850\n",
      "error\n",
      "<http://dbpedia.org/resource/John_Thomas_Sladek> <http://dbpedia.org/resource/Roderick_(novel)>\n",
      "error\n",
      "<http://dbpedia.org/resource/John_Thomas_Sladek> <http://dbpedia.org/resource/Roderick_(novel)>\n"
     ]
    },
    {
     "name": "stderr",
     "output_type": "stream",
     "text": [
      "Traceback (most recent call last):\n",
      "  File \"<ipython-input-4-294ede50fe47>\", line 6, in check\n",
      "    results = sparql.query().convert()[\"results\"][\"bindings\"][0][\"a\"][\"value\"]\n",
      "IndexError: list index out of range\n"
     ]
    },
    {
     "name": "stdout",
     "output_type": "stream",
     "text": [
      "error\n",
      "<http://dbpedia.org/resource/Adobe_Systems> <http://dbpedia.org/resource/California>\n",
      "error\n",
      "<http://dbpedia.org/resource/Adobe_Systems> <http://dbpedia.org/resource/California>\n"
     ]
    },
    {
     "name": "stderr",
     "output_type": "stream",
     "text": [
      "Traceback (most recent call last):\n",
      "  File \"<ipython-input-4-294ede50fe47>\", line 6, in check\n",
      "    results = sparql.query().convert()[\"results\"][\"bindings\"][0][\"a\"][\"value\"]\n",
      "IndexError: list index out of range\n"
     ]
    },
    {
     "name": "stdout",
     "output_type": "stream",
     "text": [
      "1900\n",
      "1950\n",
      "error\n",
      "<http://dbpedia.org/resource/Danuel_House_Jr.> <http://dbpedia.org/resource/Houston_Rockets>\n"
     ]
    },
    {
     "name": "stderr",
     "output_type": "stream",
     "text": [
      "Traceback (most recent call last):\n",
      "  File \"<ipython-input-4-294ede50fe47>\", line 6, in check\n",
      "    results = sparql.query().convert()[\"results\"][\"bindings\"][0][\"a\"][\"value\"]\n",
      "IndexError: list index out of range\n"
     ]
    },
    {
     "name": "stdout",
     "output_type": "stream",
     "text": [
      "error\n",
      "<http://dbpedia.org/resource/Danuel_House_Jr.> <http://dbpedia.org/resource/Houston_Rockets>\n",
      "2000\n",
      "2050\n",
      "error\n",
      "<http://dbpedia.org/resource/Ante_Zizic> <http://dbpedia.org/resource/Cleveland_Cavaliers>\n",
      "error\n",
      "<http://dbpedia.org/resource/Ante_Zizic> <http://dbpedia.org/resource/Cleveland_Cavaliers>\n"
     ]
    },
    {
     "name": "stderr",
     "output_type": "stream",
     "text": [
      "Traceback (most recent call last):\n",
      "  File \"<ipython-input-4-294ede50fe47>\", line 6, in check\n",
      "    results = sparql.query().convert()[\"results\"][\"bindings\"][0][\"a\"][\"value\"]\n",
      "IndexError: list index out of range\n"
     ]
    },
    {
     "name": "stdout",
     "output_type": "stream",
     "text": [
      "2100\n",
      "error\n",
      "<http://dbpedia.org/resource/Melvin_Frazier_Jr.> <http://dbpedia.org/resource/Orlando_Magic>\n"
     ]
    },
    {
     "name": "stderr",
     "output_type": "stream",
     "text": [
      "Traceback (most recent call last):\n",
      "  File \"<ipython-input-4-294ede50fe47>\", line 6, in check\n",
      "    results = sparql.query().convert()[\"results\"][\"bindings\"][0][\"a\"][\"value\"]\n",
      "IndexError: list index out of range\n"
     ]
    },
    {
     "name": "stdout",
     "output_type": "stream",
     "text": [
      "error\n",
      "<http://dbpedia.org/resource/Melvin_Frazier_Jr.> <http://dbpedia.org/resource/Orlando_Magic>\n",
      "2150\n",
      "error\n",
      "<http://dbpedia.org/resource/QlikTech> <http://dbpedia.org/resource/Texas>\n"
     ]
    },
    {
     "name": "stderr",
     "output_type": "stream",
     "text": [
      "Traceback (most recent call last):\n",
      "  File \"<ipython-input-4-294ede50fe47>\", line 6, in check\n",
      "    results = sparql.query().convert()[\"results\"][\"bindings\"][0][\"a\"][\"value\"]\n",
      "IndexError: list index out of range\n"
     ]
    },
    {
     "name": "stdout",
     "output_type": "stream",
     "text": [
      "error\n",
      "<http://dbpedia.org/resource/QlikTech> <http://dbpedia.org/resource/Texas>\n",
      "2200\n",
      "error\n",
      "<http://dbpedia.org/resource/Kill_Bill> <http://dbpedia.org/resource/Julie_Dreyfus>\n"
     ]
    },
    {
     "name": "stderr",
     "output_type": "stream",
     "text": [
      "Traceback (most recent call last):\n",
      "  File \"<ipython-input-4-294ede50fe47>\", line 6, in check\n",
      "    results = sparql.query().convert()[\"results\"][\"bindings\"][0][\"a\"][\"value\"]\n",
      "IndexError: list index out of range\n"
     ]
    },
    {
     "name": "stdout",
     "output_type": "stream",
     "text": [
      "error\n",
      "<http://dbpedia.org/resource/Kill_Bill> <http://dbpedia.org/resource/Julie_Dreyfus>\n",
      "error\n",
      "<http://dbpedia.org/resource/G_Data> <http://dbpedia.org/resource/Bochum>\n"
     ]
    },
    {
     "name": "stderr",
     "output_type": "stream",
     "text": [
      "Traceback (most recent call last):\n",
      "  File \"<ipython-input-4-294ede50fe47>\", line 6, in check\n",
      "    results = sparql.query().convert()[\"results\"][\"bindings\"][0][\"a\"][\"value\"]\n",
      "IndexError: list index out of range\n"
     ]
    },
    {
     "name": "stdout",
     "output_type": "stream",
     "text": [
      "error\n",
      "<http://dbpedia.org/resource/G_Data> <http://dbpedia.org/resource/Bochum>\n",
      "2250\n",
      "2300\n",
      "2350\n",
      "2400\n",
      "error\n",
      "<http://dbpedia.org/resource/D.J._Wilson> <http://dbpedia.org/resource/Milwaukee_Bucks>\n",
      "error\n",
      "<http://dbpedia.org/resource/D.J._Wilson> <http://dbpedia.org/resource/Milwaukee_Bucks>\n"
     ]
    },
    {
     "name": "stderr",
     "output_type": "stream",
     "text": [
      "Traceback (most recent call last):\n",
      "  File \"<ipython-input-4-294ede50fe47>\", line 6, in check\n",
      "    results = sparql.query().convert()[\"results\"][\"bindings\"][0][\"a\"][\"value\"]\n",
      "IndexError: list index out of range\n"
     ]
    },
    {
     "name": "stdout",
     "output_type": "stream",
     "text": [
      "error\n",
      "<http://dbpedia.org/resource/J._J._Redick> <http://dbpedia.org/resource/Golden_State_Warriors>\n",
      "error\n",
      "<http://dbpedia.org/resource/J._J._Redick> <http://dbpedia.org/resource/Golden_State_Warriors>\n"
     ]
    },
    {
     "name": "stderr",
     "output_type": "stream",
     "text": [
      "Traceback (most recent call last):\n",
      "  File \"<ipython-input-4-294ede50fe47>\", line 6, in check\n",
      "    results = sparql.query().convert()[\"results\"][\"bindings\"][0][\"a\"][\"value\"]\n",
      "IndexError: list index out of range\n"
     ]
    },
    {
     "name": "stdout",
     "output_type": "stream",
     "text": [
      "2450\n",
      "error\n",
      "<http://dbpedia.org/resource/Metta_World_Peace> <http://dbpedia.org/resource/Sacramento_Kings>\n",
      "error\n",
      "<http://dbpedia.org/resource/Metta_World_Peace> <http://dbpedia.org/resource/Sacramento_Kings>\n"
     ]
    },
    {
     "name": "stderr",
     "output_type": "stream",
     "text": [
      "Traceback (most recent call last):\n",
      "  File \"<ipython-input-4-294ede50fe47>\", line 6, in check\n",
      "    results = sparql.query().convert()[\"results\"][\"bindings\"][0][\"a\"][\"value\"]\n",
      "IndexError: list index out of range\n"
     ]
    },
    {
     "name": "stdout",
     "output_type": "stream",
     "text": [
      "2500\n",
      "2550\n",
      "2600\n",
      "error\n",
      "<http://dbpedia.org/resource/Kill_Bill> <http://dbpedia.org/resource/David_Carradine>\n",
      "error\n",
      "<http://dbpedia.org/resource/Kill_Bill> <http://dbpedia.org/resource/David_Carradine>\n"
     ]
    },
    {
     "name": "stderr",
     "output_type": "stream",
     "text": [
      "Traceback (most recent call last):\n",
      "  File \"<ipython-input-4-294ede50fe47>\", line 6, in check\n",
      "    results = sparql.query().convert()[\"results\"][\"bindings\"][0][\"a\"][\"value\"]\n",
      "IndexError: list index out of range\n"
     ]
    },
    {
     "name": "stdout",
     "output_type": "stream",
     "text": [
      "2650\n",
      "2700\n",
      "error\n",
      "<http://dbpedia.org/resource/Diana,_Princess_of_Wales> <http://dbpedia.org/resource/Paris>\n"
     ]
    },
    {
     "name": "stderr",
     "output_type": "stream",
     "text": [
      "Traceback (most recent call last):\n",
      "  File \"<ipython-input-4-294ede50fe47>\", line 6, in check\n",
      "    results = sparql.query().convert()[\"results\"][\"bindings\"][0][\"a\"][\"value\"]\n",
      "IndexError: list index out of range\n"
     ]
    },
    {
     "name": "stdout",
     "output_type": "stream",
     "text": [
      " worked \n",
      "2750\n",
      "error\n",
      "<http://dbpedia.org/resource/John_Henson> <http://dbpedia.org/resource/Cleveland_Cavaliers>\n",
      "error\n",
      "<http://dbpedia.org/resource/John_Henson> <http://dbpedia.org/resource/Cleveland_Cavaliers>\n",
      "2800\n"
     ]
    },
    {
     "name": "stderr",
     "output_type": "stream",
     "text": [
      "Traceback (most recent call last):\n",
      "  File \"<ipython-input-4-294ede50fe47>\", line 6, in check\n",
      "    results = sparql.query().convert()[\"results\"][\"bindings\"][0][\"a\"][\"value\"]\n",
      "IndexError: list index out of range\n"
     ]
    },
    {
     "name": "stdout",
     "output_type": "stream",
     "text": [
      "error\n",
      "<http://dbpedia.org/resource/Mike_Conley> <http://dbpedia.org/resource/Utah_Jazz>\n",
      "error\n",
      "<http://dbpedia.org/resource/Mike_Conley> <http://dbpedia.org/resource/Utah_Jazz>\n"
     ]
    },
    {
     "name": "stderr",
     "output_type": "stream",
     "text": [
      "Traceback (most recent call last):\n",
      "  File \"<ipython-input-4-294ede50fe47>\", line 6, in check\n",
      "    results = sparql.query().convert()[\"results\"][\"bindings\"][0][\"a\"][\"value\"]\n",
      "IndexError: list index out of range\n"
     ]
    },
    {
     "name": "stdout",
     "output_type": "stream",
     "text": [
      "2850\n",
      "error\n",
      "<http://dbpedia.org/resource/P.J._Tucker> <http://dbpedia.org/resource/Houston_Rockets>\n",
      "error\n",
      "<http://dbpedia.org/resource/P.J._Tucker> <http://dbpedia.org/resource/Houston_Rockets>\n"
     ]
    },
    {
     "name": "stderr",
     "output_type": "stream",
     "text": [
      "Traceback (most recent call last):\n",
      "  File \"<ipython-input-4-294ede50fe47>\", line 6, in check\n",
      "    results = sparql.query().convert()[\"results\"][\"bindings\"][0][\"a\"][\"value\"]\n",
      "IndexError: list index out of range\n"
     ]
    },
    {
     "name": "stdout",
     "output_type": "stream",
     "text": [
      "2900\n",
      "error\n",
      "<http://dbpedia.org/resource/H._A._Lorentz> <http://dbpedia.org/resource/Nobel_Prize_in_Physics>\n",
      "error\n",
      "<http://dbpedia.org/resource/H._A._Lorentz> <http://dbpedia.org/resource/Nobel_Prize_in_Physics>\n"
     ]
    },
    {
     "name": "stderr",
     "output_type": "stream",
     "text": [
      "Traceback (most recent call last):\n",
      "  File \"<ipython-input-4-294ede50fe47>\", line 6, in check\n",
      "    results = sparql.query().convert()[\"results\"][\"bindings\"][0][\"a\"][\"value\"]\n",
      "IndexError: list index out of range\n"
     ]
    },
    {
     "name": "stdout",
     "output_type": "stream",
     "text": [
      "2950\n",
      "error\n",
      "<http://dbpedia.org/resource/Diana,_Princess_of_Wales> <http://dbpedia.org/resource/Sandringham,_Norfolk>\n",
      " worked \n"
     ]
    },
    {
     "name": "stderr",
     "output_type": "stream",
     "text": [
      "Traceback (most recent call last):\n",
      "  File \"<ipython-input-4-294ede50fe47>\", line 6, in check\n",
      "    results = sparql.query().convert()[\"results\"][\"bindings\"][0][\"a\"][\"value\"]\n",
      "IndexError: list index out of range\n"
     ]
    },
    {
     "name": "stdout",
     "output_type": "stream",
     "text": [
      "error\n",
      "<http://dbpedia.org/resource/Christina,_Queen_of_Sweden> <http://dbpedia.org/resource/Stockholm>\n",
      " worked \n"
     ]
    },
    {
     "name": "stderr",
     "output_type": "stream",
     "text": [
      "Traceback (most recent call last):\n",
      "  File \"<ipython-input-4-294ede50fe47>\", line 6, in check\n",
      "    results = sparql.query().convert()[\"results\"][\"bindings\"][0][\"a\"][\"value\"]\n",
      "IndexError: list index out of range\n"
     ]
    },
    {
     "name": "stdout",
     "output_type": "stream",
     "text": [
      "error\n",
      "<http://dbpedia.org/resource/J._J._Redick> <http://dbpedia.org/resource/Denver_Nuggets>\n",
      "error\n",
      "<http://dbpedia.org/resource/J._J._Redick> <http://dbpedia.org/resource/Denver_Nuggets>\n"
     ]
    },
    {
     "name": "stderr",
     "output_type": "stream",
     "text": [
      "Traceback (most recent call last):\n",
      "  File \"<ipython-input-4-294ede50fe47>\", line 6, in check\n",
      "    results = sparql.query().convert()[\"results\"][\"bindings\"][0][\"a\"][\"value\"]\n",
      "IndexError: list index out of range\n"
     ]
    },
    {
     "name": "stdout",
     "output_type": "stream",
     "text": [
      "error\n",
      "<http://dbpedia.org/resource/Cornelis_Janssens_van_Ceulen> <http://dbpedia.org/resource/Utrecht>\n"
     ]
    },
    {
     "name": "stderr",
     "output_type": "stream",
     "text": [
      "Traceback (most recent call last):\n",
      "  File \"<ipython-input-4-294ede50fe47>\", line 6, in check\n",
      "    results = sparql.query().convert()[\"results\"][\"bindings\"][0][\"a\"][\"value\"]\n",
      "IndexError: list index out of range\n"
     ]
    },
    {
     "name": "stdout",
     "output_type": "stream",
     "text": [
      "error\n",
      "<http://dbpedia.org/resource/Cornelis_Janssens_van_Ceulen> <http://dbpedia.org/resource/Utrecht>\n",
      "3000\n",
      "3050\n",
      "3100\n",
      "3150\n",
      "error\n",
      "<http://dbpedia.org/resource/Luka_Doncic> <http://dbpedia.org/resource/Dallas_Mavericks>\n"
     ]
    },
    {
     "name": "stderr",
     "output_type": "stream",
     "text": [
      "Traceback (most recent call last):\n",
      "  File \"<ipython-input-4-294ede50fe47>\", line 6, in check\n",
      "    results = sparql.query().convert()[\"results\"][\"bindings\"][0][\"a\"][\"value\"]\n",
      "IndexError: list index out of range\n"
     ]
    },
    {
     "name": "stdout",
     "output_type": "stream",
     "text": [
      "error\n",
      "<http://dbpedia.org/resource/Luka_Doncic> <http://dbpedia.org/resource/Dallas_Mavericks>\n",
      "error\n",
      "<http://dbpedia.org/resource/Jemima_Khan> <http://dbpedia.org/resource/James_Franco>\n"
     ]
    },
    {
     "name": "stderr",
     "output_type": "stream",
     "text": [
      "Traceback (most recent call last):\n",
      "  File \"<ipython-input-4-294ede50fe47>\", line 6, in check\n",
      "    results = sparql.query().convert()[\"results\"][\"bindings\"][0][\"a\"][\"value\"]\n",
      "IndexError: list index out of range\n"
     ]
    },
    {
     "name": "stdout",
     "output_type": "stream",
     "text": [
      "error\n",
      "<http://dbpedia.org/resource/Jemima_Khan> <http://dbpedia.org/resource/James_Franco>\n",
      "3200\n",
      "error\n",
      "<http://dbpedia.org/resource/Kill_Bill> <http://dbpedia.org/resource/Michael_Madsen>\n",
      "error\n",
      "<http://dbpedia.org/resource/Kill_Bill> <http://dbpedia.org/resource/Michael_Madsen>\n"
     ]
    },
    {
     "name": "stderr",
     "output_type": "stream",
     "text": [
      "Traceback (most recent call last):\n",
      "  File \"<ipython-input-4-294ede50fe47>\", line 6, in check\n",
      "    results = sparql.query().convert()[\"results\"][\"bindings\"][0][\"a\"][\"value\"]\n",
      "IndexError: list index out of range\n"
     ]
    },
    {
     "name": "stdout",
     "output_type": "stream",
     "text": [
      "3250\n",
      "error\n",
      "<http://dbpedia.org/resource/FrontRange_Solutions> <http://dbpedia.org/resource/Colorado_Springs,_Colorado>\n"
     ]
    },
    {
     "name": "stderr",
     "output_type": "stream",
     "text": [
      "Traceback (most recent call last):\n",
      "  File \"<ipython-input-4-294ede50fe47>\", line 6, in check\n",
      "    results = sparql.query().convert()[\"results\"][\"bindings\"][0][\"a\"][\"value\"]\n",
      "IndexError: list index out of range\n"
     ]
    },
    {
     "name": "stdout",
     "output_type": "stream",
     "text": [
      "error\n",
      "<http://dbpedia.org/resource/FrontRange_Solutions> <http://dbpedia.org/resource/Colorado_Springs,_Colorado>\n",
      "error\n",
      "<http://dbpedia.org/resource/Charles_Brown_Jr.> <http://dbpedia.org/resource/Atlanta_Hawks>\n"
     ]
    },
    {
     "name": "stderr",
     "output_type": "stream",
     "text": [
      "Traceback (most recent call last):\n",
      "  File \"<ipython-input-4-294ede50fe47>\", line 6, in check\n",
      "    results = sparql.query().convert()[\"results\"][\"bindings\"][0][\"a\"][\"value\"]\n",
      "IndexError: list index out of range\n"
     ]
    },
    {
     "name": "stdout",
     "output_type": "stream",
     "text": [
      "error\n",
      "<http://dbpedia.org/resource/Charles_Brown_Jr.> <http://dbpedia.org/resource/Atlanta_Hawks>\n",
      "3300\n",
      "error\n",
      "<http://dbpedia.org/resource/H._A._Lorentz> <http://dbpedia.org/resource/Nobel_Prize_in_Literature>\n",
      "error\n",
      "<http://dbpedia.org/resource/H._A._Lorentz> <http://dbpedia.org/resource/Nobel_Prize_in_Literature>\n"
     ]
    },
    {
     "name": "stderr",
     "output_type": "stream",
     "text": [
      "Traceback (most recent call last):\n",
      "  File \"<ipython-input-4-294ede50fe47>\", line 6, in check\n",
      "    results = sparql.query().convert()[\"results\"][\"bindings\"][0][\"a\"][\"value\"]\n",
      "IndexError: list index out of range\n"
     ]
    },
    {
     "name": "stdout",
     "output_type": "stream",
     "text": [
      "3350\n",
      "3400\n",
      "error\n",
      "<http://dbpedia.org/resource/Christina,_Queen_of_Sweden> <http://dbpedia.org/resource/Rome>\n",
      " worked \n"
     ]
    },
    {
     "name": "stderr",
     "output_type": "stream",
     "text": [
      "Traceback (most recent call last):\n",
      "  File \"<ipython-input-4-294ede50fe47>\", line 6, in check\n",
      "    results = sparql.query().convert()[\"results\"][\"bindings\"][0][\"a\"][\"value\"]\n",
      "IndexError: list index out of range\n"
     ]
    },
    {
     "name": "stdout",
     "output_type": "stream",
     "text": [
      "3450\n",
      "error\n",
      "<http://dbpedia.org/resource/Albert_VII,_Archduke_of_Austria> <http://dbpedia.org/resource/Wiener_Neustadt>\n"
     ]
    },
    {
     "name": "stderr",
     "output_type": "stream",
     "text": [
      "Traceback (most recent call last):\n",
      "  File \"<ipython-input-4-294ede50fe47>\", line 6, in check\n",
      "    results = sparql.query().convert()[\"results\"][\"bindings\"][0][\"a\"][\"value\"]\n",
      "IndexError: list index out of range\n"
     ]
    },
    {
     "name": "stdout",
     "output_type": "stream",
     "text": [
      " worked \n",
      "error\n",
      "<http://dbpedia.org/resource/Francis_II,_Holy_Roman_Emperor> <http://dbpedia.org/resource/Vienna>\n"
     ]
    },
    {
     "name": "stderr",
     "output_type": "stream",
     "text": [
      "Traceback (most recent call last):\n",
      "  File \"<ipython-input-4-294ede50fe47>\", line 6, in check\n",
      "    results = sparql.query().convert()[\"results\"][\"bindings\"][0][\"a\"][\"value\"]\n",
      "IndexError: list index out of range\n"
     ]
    },
    {
     "name": "stdout",
     "output_type": "stream",
     "text": [
      " worked \n",
      "error\n",
      "<http://dbpedia.org/resource/Kill_Bill> <http://dbpedia.org/resource/Seth_Green>\n"
     ]
    },
    {
     "name": "stderr",
     "output_type": "stream",
     "text": [
      "Traceback (most recent call last):\n",
      "  File \"<ipython-input-4-294ede50fe47>\", line 6, in check\n",
      "    results = sparql.query().convert()[\"results\"][\"bindings\"][0][\"a\"][\"value\"]\n",
      "IndexError: list index out of range\n"
     ]
    },
    {
     "name": "stdout",
     "output_type": "stream",
     "text": [
      "error\n",
      "<http://dbpedia.org/resource/Kill_Bill> <http://dbpedia.org/resource/Seth_Green>\n",
      "error\n",
      "<http://dbpedia.org/resource/Symantec> <http://dbpedia.org/resource/Alexa_Internet>\n"
     ]
    },
    {
     "name": "stderr",
     "output_type": "stream",
     "text": [
      "Traceback (most recent call last):\n",
      "  File \"<ipython-input-4-294ede50fe47>\", line 6, in check\n",
      "    results = sparql.query().convert()[\"results\"][\"bindings\"][0][\"a\"][\"value\"]\n",
      "IndexError: list index out of range\n"
     ]
    },
    {
     "name": "stdout",
     "output_type": "stream",
     "text": [
      "error\n",
      "<http://dbpedia.org/resource/Symantec> <http://dbpedia.org/resource/Alexa_Internet>\n",
      "3500\n",
      "3550\n",
      "error\n",
      "<http://dbpedia.org/resource/Albert_Abraham_Michelson> <http://dbpedia.org/resource/Nobel_Prize_in_Physics>\n",
      "error\n",
      "<http://dbpedia.org/resource/Albert_Abraham_Michelson> <http://dbpedia.org/resource/Nobel_Prize_in_Physics>\n"
     ]
    },
    {
     "name": "stderr",
     "output_type": "stream",
     "text": [
      "Traceback (most recent call last):\n",
      "  File \"<ipython-input-4-294ede50fe47>\", line 6, in check\n",
      "    results = sparql.query().convert()[\"results\"][\"bindings\"][0][\"a\"][\"value\"]\n",
      "IndexError: list index out of range\n"
     ]
    },
    {
     "name": "stdout",
     "output_type": "stream",
     "text": [
      "3600\n",
      "error\n",
      "<http://dbpedia.org/resource/Mindscape> <http://dbpedia.org/resource/Bristol>\n",
      "error\n",
      "<http://dbpedia.org/resource/Mindscape> <http://dbpedia.org/resource/Bristol>\n"
     ]
    },
    {
     "name": "stderr",
     "output_type": "stream",
     "text": [
      "Traceback (most recent call last):\n",
      "  File \"<ipython-input-4-294ede50fe47>\", line 6, in check\n",
      "    results = sparql.query().convert()[\"results\"][\"bindings\"][0][\"a\"][\"value\"]\n",
      "IndexError: list index out of range\n"
     ]
    },
    {
     "name": "stdout",
     "output_type": "stream",
     "text": [
      "error\n",
      "<http://dbpedia.org/resource/Aar%C3%B3n_Díaz> <http://dbpedia.org/resource/Jason_Biggs>\n"
     ]
    },
    {
     "name": "stderr",
     "output_type": "stream",
     "text": [
      "Traceback (most recent call last):\n",
      "  File \"<ipython-input-4-294ede50fe47>\", line 6, in check\n",
      "    results = sparql.query().convert()[\"results\"][\"bindings\"][0][\"a\"][\"value\"]\n",
      "IndexError: list index out of range\n"
     ]
    },
    {
     "name": "stdout",
     "output_type": "stream",
     "text": [
      "error\n",
      "<http://dbpedia.org/resource/Aar%C3%B3n_Díaz> <http://dbpedia.org/resource/Jason_Biggs>\n",
      "3650\n",
      "error\n",
      "<http://dbpedia.org/resource/Diana,_Princess_of_Wales> <http://dbpedia.org/resource/Sandringham,_Norfolk>\n"
     ]
    },
    {
     "name": "stderr",
     "output_type": "stream",
     "text": [
      "Traceback (most recent call last):\n",
      "  File \"<ipython-input-4-294ede50fe47>\", line 6, in check\n",
      "    results = sparql.query().convert()[\"results\"][\"bindings\"][0][\"a\"][\"value\"]\n",
      "IndexError: list index out of range\n"
     ]
    },
    {
     "name": "stdout",
     "output_type": "stream",
     "text": [
      " worked \n",
      "error\n",
      "<http://dbpedia.org/resource/Marko_Guduric> <http://dbpedia.org/resource/Memphis_Grizzlies>\n"
     ]
    },
    {
     "name": "stderr",
     "output_type": "stream",
     "text": [
      "Traceback (most recent call last):\n",
      "  File \"<ipython-input-4-294ede50fe47>\", line 6, in check\n",
      "    results = sparql.query().convert()[\"results\"][\"bindings\"][0][\"a\"][\"value\"]\n",
      "IndexError: list index out of range\n"
     ]
    },
    {
     "name": "stdout",
     "output_type": "stream",
     "text": [
      "error\n",
      "<http://dbpedia.org/resource/Marko_Guduric> <http://dbpedia.org/resource/Memphis_Grizzlies>\n",
      "error\n",
      "<http://dbpedia.org/resource/Ivo_Andri%C4%87> <http://dbpedia.org/resource/Nobel_Prize_in_Literature>\n"
     ]
    },
    {
     "name": "stderr",
     "output_type": "stream",
     "text": [
      "Traceback (most recent call last):\n",
      "  File \"<ipython-input-4-294ede50fe47>\", line 6, in check\n",
      "    results = sparql.query().convert()[\"results\"][\"bindings\"][0][\"a\"][\"value\"]\n",
      "IndexError: list index out of range\n"
     ]
    },
    {
     "name": "stdout",
     "output_type": "stream",
     "text": [
      "error\n",
      "<http://dbpedia.org/resource/Ivo_Andri%C4%87> <http://dbpedia.org/resource/Nobel_Prize_in_Literature>\n",
      "3700\n",
      "3750\n",
      "3800\n",
      "error\n",
      "<http://dbpedia.org/resource/G_Data> <http://dbpedia.org/resource/Bochum>\n"
     ]
    },
    {
     "name": "stderr",
     "output_type": "stream",
     "text": [
      "Traceback (most recent call last):\n",
      "  File \"<ipython-input-4-294ede50fe47>\", line 6, in check\n",
      "    results = sparql.query().convert()[\"results\"][\"bindings\"][0][\"a\"][\"value\"]\n",
      "IndexError: list index out of range\n"
     ]
    },
    {
     "name": "stdout",
     "output_type": "stream",
     "text": [
      "error\n",
      "<http://dbpedia.org/resource/G_Data> <http://dbpedia.org/resource/Bochum>\n",
      "3850\n",
      "error\n",
      "<http://dbpedia.org/resource/Ersan_Ilyasova> <http://dbpedia.org/resource/Milwaukee_Bucks>\n"
     ]
    },
    {
     "name": "stderr",
     "output_type": "stream",
     "text": [
      "Traceback (most recent call last):\n",
      "  File \"<ipython-input-4-294ede50fe47>\", line 6, in check\n",
      "    results = sparql.query().convert()[\"results\"][\"bindings\"][0][\"a\"][\"value\"]\n",
      "IndexError: list index out of range\n"
     ]
    },
    {
     "name": "stdout",
     "output_type": "stream",
     "text": [
      "error\n",
      "<http://dbpedia.org/resource/Ersan_Ilyasova> <http://dbpedia.org/resource/Milwaukee_Bucks>\n",
      "3900\n",
      "3950\n",
      "error\n",
      "<http://dbpedia.org/resource/TomorrowNow> <http://dbpedia.org/resource/Bryan,_Texas>\n"
     ]
    },
    {
     "name": "stderr",
     "output_type": "stream",
     "text": [
      "Traceback (most recent call last):\n",
      "  File \"<ipython-input-4-294ede50fe47>\", line 6, in check\n",
      "    results = sparql.query().convert()[\"results\"][\"bindings\"][0][\"a\"][\"value\"]\n",
      "IndexError: list index out of range\n"
     ]
    },
    {
     "name": "stdout",
     "output_type": "stream",
     "text": [
      "error\n",
      "<http://dbpedia.org/resource/TomorrowNow> <http://dbpedia.org/resource/Bryan,_Texas>\n",
      "error\n",
      "<http://dbpedia.org/resource/Kill_Bill> <http://dbpedia.org/resource/Vivica_A._Fox>\n"
     ]
    },
    {
     "name": "stderr",
     "output_type": "stream",
     "text": [
      "Traceback (most recent call last):\n",
      "  File \"<ipython-input-4-294ede50fe47>\", line 6, in check\n",
      "    results = sparql.query().convert()[\"results\"][\"bindings\"][0][\"a\"][\"value\"]\n",
      "IndexError: list index out of range\n"
     ]
    },
    {
     "name": "stdout",
     "output_type": "stream",
     "text": [
      "error\n",
      "<http://dbpedia.org/resource/Kill_Bill> <http://dbpedia.org/resource/Vivica_A._Fox>\n",
      "error\n",
      "<http://dbpedia.org/resource/EMC_Corporation> <http://dbpedia.org/resource/Mozy>\n",
      "error\n",
      "<http://dbpedia.org/resource/EMC_Corporation> <http://dbpedia.org/resource/Mozy>\n"
     ]
    },
    {
     "name": "stderr",
     "output_type": "stream",
     "text": [
      "Traceback (most recent call last):\n",
      "  File \"<ipython-input-4-294ede50fe47>\", line 6, in check\n",
      "    results = sparql.query().convert()[\"results\"][\"bindings\"][0][\"a\"][\"value\"]\n",
      "IndexError: list index out of range\n"
     ]
    },
    {
     "name": "stdout",
     "output_type": "stream",
     "text": [
      "error\n",
      "<http://dbpedia.org/resource/Metta_World_Peace> <http://dbpedia.org/resource/Los_Angeles_Lakers>\n",
      "error\n",
      "<http://dbpedia.org/resource/Metta_World_Peace> <http://dbpedia.org/resource/Los_Angeles_Lakers>\n"
     ]
    },
    {
     "name": "stderr",
     "output_type": "stream",
     "text": [
      "Traceback (most recent call last):\n",
      "  File \"<ipython-input-4-294ede50fe47>\", line 6, in check\n",
      "    results = sparql.query().convert()[\"results\"][\"bindings\"][0][\"a\"][\"value\"]\n",
      "IndexError: list index out of range\n"
     ]
    },
    {
     "name": "stdout",
     "output_type": "stream",
     "text": [
      "4000\n",
      "4050\n",
      "4100\n",
      "error\n",
      "<http://dbpedia.org/resource/Myl%C3%A8ne_Jampano%C3%AF> <http://dbpedia.org/resource/Milind_Soman>\n",
      "error\n",
      "<http://dbpedia.org/resource/Myl%C3%A8ne_Jampano%C3%AF> <http://dbpedia.org/resource/Milind_Soman>\n"
     ]
    },
    {
     "name": "stderr",
     "output_type": "stream",
     "text": [
      "Traceback (most recent call last):\n",
      "  File \"<ipython-input-4-294ede50fe47>\", line 6, in check\n",
      "    results = sparql.query().convert()[\"results\"][\"bindings\"][0][\"a\"][\"value\"]\n",
      "IndexError: list index out of range\n"
     ]
    },
    {
     "name": "stdout",
     "output_type": "stream",
     "text": [
      "error\n",
      "<http://dbpedia.org/resource/Francis_II,_Holy_Roman_Emperor> <http://dbpedia.org/resource/Vienna>\n",
      " worked \n"
     ]
    },
    {
     "name": "stderr",
     "output_type": "stream",
     "text": [
      "Traceback (most recent call last):\n",
      "  File \"<ipython-input-4-294ede50fe47>\", line 6, in check\n",
      "    results = sparql.query().convert()[\"results\"][\"bindings\"][0][\"a\"][\"value\"]\n",
      "IndexError: list index out of range\n"
     ]
    },
    {
     "name": "stdout",
     "output_type": "stream",
     "text": [
      "4150\n",
      "error\n",
      "<http://dbpedia.org/resource/Kill_Bill> <http://dbpedia.org/resource/Jane_Dornacker>\n"
     ]
    },
    {
     "name": "stderr",
     "output_type": "stream",
     "text": [
      "Traceback (most recent call last):\n",
      "  File \"<ipython-input-4-294ede50fe47>\", line 6, in check\n",
      "    results = sparql.query().convert()[\"results\"][\"bindings\"][0][\"a\"][\"value\"]\n",
      "IndexError: list index out of range\n"
     ]
    },
    {
     "name": "stdout",
     "output_type": "stream",
     "text": [
      "error\n",
      "<http://dbpedia.org/resource/Kill_Bill> <http://dbpedia.org/resource/Jane_Dornacker>\n",
      "4200\n",
      "4250\n",
      "error\n",
      "<http://dbpedia.org/resource/Mike_Miller_(basketball_player)> <http://dbpedia.org/resource/Golden_State_Warriors>\n"
     ]
    },
    {
     "name": "stderr",
     "output_type": "stream",
     "text": [
      "Traceback (most recent call last):\n",
      "  File \"<ipython-input-4-294ede50fe47>\", line 6, in check\n",
      "    results = sparql.query().convert()[\"results\"][\"bindings\"][0][\"a\"][\"value\"]\n",
      "IndexError: list index out of range\n"
     ]
    },
    {
     "name": "stdout",
     "output_type": "stream",
     "text": [
      "error\n",
      "<http://dbpedia.org/resource/Mike_Miller_(basketball_player)> <http://dbpedia.org/resource/Golden_State_Warriors>\n",
      "4300\n",
      "error\n",
      "<http://dbpedia.org/resource/Albert_VII,_Archduke_of_Austria> <http://dbpedia.org/resource/Brussels>\n",
      " worked \n",
      "4350\n"
     ]
    },
    {
     "name": "stderr",
     "output_type": "stream",
     "text": [
      "Traceback (most recent call last):\n",
      "  File \"<ipython-input-4-294ede50fe47>\", line 6, in check\n",
      "    results = sparql.query().convert()[\"results\"][\"bindings\"][0][\"a\"][\"value\"]\n",
      "IndexError: list index out of range\n"
     ]
    },
    {
     "name": "stdout",
     "output_type": "stream",
     "text": [
      "error\n",
      "<http://dbpedia.org/resource/Otto_Porter_Jr.> <http://dbpedia.org/resource/Chicago_Bulls>\n",
      "error\n",
      "<http://dbpedia.org/resource/Otto_Porter_Jr.> <http://dbpedia.org/resource/Chicago_Bulls>\n"
     ]
    },
    {
     "name": "stderr",
     "output_type": "stream",
     "text": [
      "Traceback (most recent call last):\n",
      "  File \"<ipython-input-4-294ede50fe47>\", line 6, in check\n",
      "    results = sparql.query().convert()[\"results\"][\"bindings\"][0][\"a\"][\"value\"]\n",
      "IndexError: list index out of range\n"
     ]
    },
    {
     "name": "stdout",
     "output_type": "stream",
     "text": [
      "error\n",
      "<http://dbpedia.org/resource/Unify_Corporation> <http://dbpedia.org/resource/California>\n",
      "error\n",
      "<http://dbpedia.org/resource/Unify_Corporation> <http://dbpedia.org/resource/California>\n"
     ]
    },
    {
     "name": "stderr",
     "output_type": "stream",
     "text": [
      "Traceback (most recent call last):\n",
      "  File \"<ipython-input-4-294ede50fe47>\", line 6, in check\n",
      "    results = sparql.query().convert()[\"results\"][\"bindings\"][0][\"a\"][\"value\"]\n",
      "IndexError: list index out of range\n"
     ]
    },
    {
     "name": "stdout",
     "output_type": "stream",
     "text": [
      "4400\n",
      "error\n",
      "<http://dbpedia.org/resource/SNP_Schneider-Neureither_&_Partner_AG> <http://dbpedia.org/resource/Ottawa>\n"
     ]
    },
    {
     "name": "stderr",
     "output_type": "stream",
     "text": [
      "Traceback (most recent call last):\n",
      "  File \"<ipython-input-4-294ede50fe47>\", line 6, in check\n",
      "    results = sparql.query().convert()[\"results\"][\"bindings\"][0][\"a\"][\"value\"]\n",
      "IndexError: list index out of range\n"
     ]
    },
    {
     "name": "stdout",
     "output_type": "stream",
     "text": [
      "error\n",
      "<http://dbpedia.org/resource/SNP_Schneider-Neureither_&_Partner_AG> <http://dbpedia.org/resource/Ottawa>\n",
      "error\n",
      "<http://dbpedia.org/resource/Francis_II,_Holy_Roman_Emperor> <http://dbpedia.org/resource/Florence>\n"
     ]
    },
    {
     "name": "stderr",
     "output_type": "stream",
     "text": [
      "Traceback (most recent call last):\n",
      "  File \"<ipython-input-4-294ede50fe47>\", line 6, in check\n",
      "    results = sparql.query().convert()[\"results\"][\"bindings\"][0][\"a\"][\"value\"]\n",
      "IndexError: list index out of range\n"
     ]
    },
    {
     "name": "stdout",
     "output_type": "stream",
     "text": [
      " worked \n",
      "4450\n",
      "4500\n",
      "error\n",
      "<http://dbpedia.org/resource/TomorrowNow> <http://dbpedia.org/resource/Bryan,_Texas>\n"
     ]
    },
    {
     "name": "stderr",
     "output_type": "stream",
     "text": [
      "Traceback (most recent call last):\n",
      "  File \"<ipython-input-4-294ede50fe47>\", line 6, in check\n",
      "    results = sparql.query().convert()[\"results\"][\"bindings\"][0][\"a\"][\"value\"]\n",
      "IndexError: list index out of range\n"
     ]
    },
    {
     "name": "stdout",
     "output_type": "stream",
     "text": [
      "error\n",
      "<http://dbpedia.org/resource/TomorrowNow> <http://dbpedia.org/resource/Bryan,_Texas>\n",
      "4550\n",
      "4600\n",
      "error\n",
      "<http://dbpedia.org/resource/Feodor_Felix_Konrad_Lynen> <http://dbpedia.org/resource/Nobel_Prize_in_Physiology_or_Medicine>\n"
     ]
    },
    {
     "name": "stderr",
     "output_type": "stream",
     "text": [
      "Traceback (most recent call last):\n",
      "  File \"<ipython-input-4-294ede50fe47>\", line 6, in check\n",
      "    results = sparql.query().convert()[\"results\"][\"bindings\"][0][\"a\"][\"value\"]\n",
      "IndexError: list index out of range\n"
     ]
    },
    {
     "name": "stdout",
     "output_type": "stream",
     "text": [
      "error\n",
      "<http://dbpedia.org/resource/Feodor_Felix_Konrad_Lynen> <http://dbpedia.org/resource/Nobel_Prize_in_Physiology_or_Medicine>\n",
      "error\n",
      "<http://dbpedia.org/resource/Dialogic_Corporation> <http://dbpedia.org/resource/Montreal>\n"
     ]
    },
    {
     "name": "stderr",
     "output_type": "stream",
     "text": [
      "Traceback (most recent call last):\n",
      "  File \"<ipython-input-4-294ede50fe47>\", line 6, in check\n",
      "    results = sparql.query().convert()[\"results\"][\"bindings\"][0][\"a\"][\"value\"]\n",
      "IndexError: list index out of range\n"
     ]
    },
    {
     "name": "stdout",
     "output_type": "stream",
     "text": [
      "error\n",
      "<http://dbpedia.org/resource/Dialogic_Corporation> <http://dbpedia.org/resource/Montreal>\n",
      "4650\n",
      "error\n",
      "<http://dbpedia.org/resource/Harry_Harrison> <http://dbpedia.org/resource/Make_Room!_Make_Room!>\n"
     ]
    },
    {
     "name": "stderr",
     "output_type": "stream",
     "text": [
      "Traceback (most recent call last):\n",
      "  File \"<ipython-input-4-294ede50fe47>\", line 6, in check\n",
      "    results = sparql.query().convert()[\"results\"][\"bindings\"][0][\"a\"][\"value\"]\n",
      "IndexError: list index out of range\n"
     ]
    },
    {
     "name": "stdout",
     "output_type": "stream",
     "text": [
      "error\n",
      "<http://dbpedia.org/resource/Harry_Harrison> <http://dbpedia.org/resource/Make_Room!_Make_Room!>\n",
      "error\n",
      "<http://dbpedia.org/resource/Amazon.com> <http://dbpedia.org/resource/Alexa_Internet>\n",
      "error\n",
      "<http://dbpedia.org/resource/Amazon.com> <http://dbpedia.org/resource/Alexa_Internet>\n"
     ]
    },
    {
     "name": "stderr",
     "output_type": "stream",
     "text": [
      "Traceback (most recent call last):\n",
      "  File \"<ipython-input-4-294ede50fe47>\", line 6, in check\n",
      "    results = sparql.query().convert()[\"results\"][\"bindings\"][0][\"a\"][\"value\"]\n",
      "IndexError: list index out of range\n"
     ]
    },
    {
     "name": "stdout",
     "output_type": "stream",
     "text": [
      "error\n",
      "<http://dbpedia.org/resource/Kill_Bill> <http://dbpedia.org/resource/John_Lennon>\n",
      "error\n",
      "<http://dbpedia.org/resource/Kill_Bill> <http://dbpedia.org/resource/John_Lennon>\n"
     ]
    },
    {
     "name": "stderr",
     "output_type": "stream",
     "text": [
      "Traceback (most recent call last):\n",
      "  File \"<ipython-input-4-294ede50fe47>\", line 6, in check\n",
      "    results = sparql.query().convert()[\"results\"][\"bindings\"][0][\"a\"][\"value\"]\n",
      "IndexError: list index out of range\n"
     ]
    },
    {
     "name": "stdout",
     "output_type": "stream",
     "text": [
      "4700\n",
      "4750\n",
      "error\n",
      "<http://dbpedia.org/resource/Karel_%C4%8Capek> <http://dbpedia.org/resource/The_Absolute_at_Large>\n",
      "error\n",
      "<http://dbpedia.org/resource/Karel_%C4%8Capek> <http://dbpedia.org/resource/The_Absolute_at_Large>\n"
     ]
    },
    {
     "name": "stderr",
     "output_type": "stream",
     "text": [
      "Traceback (most recent call last):\n",
      "  File \"<ipython-input-4-294ede50fe47>\", line 6, in check\n",
      "    results = sparql.query().convert()[\"results\"][\"bindings\"][0][\"a\"][\"value\"]\n",
      "IndexError: list index out of range\n"
     ]
    },
    {
     "name": "stdout",
     "output_type": "stream",
     "text": [
      "4800\n",
      "error\n",
      "<http://dbpedia.org/resource/Seven_(film)> <http://dbpedia.org/resource/Morgan_Freeman>\n",
      "error\n",
      "<http://dbpedia.org/resource/Seven_(film)> <http://dbpedia.org/resource/Morgan_Freeman>\n"
     ]
    },
    {
     "name": "stderr",
     "output_type": "stream",
     "text": [
      "Traceback (most recent call last):\n",
      "  File \"<ipython-input-4-294ede50fe47>\", line 6, in check\n",
      "    results = sparql.query().convert()[\"results\"][\"bindings\"][0][\"a\"][\"value\"]\n",
      "IndexError: list index out of range\n"
     ]
    },
    {
     "name": "stdout",
     "output_type": "stream",
     "text": [
      "error\n",
      "<http://dbpedia.org/resource/Kill_Bill> <http://dbpedia.org/resource/Sam_Shepard>\n",
      "error\n",
      "<http://dbpedia.org/resource/Kill_Bill> <http://dbpedia.org/resource/Sam_Shepard>\n"
     ]
    },
    {
     "name": "stderr",
     "output_type": "stream",
     "text": [
      "Traceback (most recent call last):\n",
      "  File \"<ipython-input-4-294ede50fe47>\", line 6, in check\n",
      "    results = sparql.query().convert()[\"results\"][\"bindings\"][0][\"a\"][\"value\"]\n",
      "IndexError: list index out of range\n"
     ]
    },
    {
     "name": "stdout",
     "output_type": "stream",
     "text": [
      "4850\n",
      "error\n",
      "<http://dbpedia.org/resource/Beyoncé_Knowles> <http://dbpedia.org/resource/Vallejo,_California>\n"
     ]
    },
    {
     "name": "stderr",
     "output_type": "stream",
     "text": [
      "Traceback (most recent call last):\n",
      "  File \"<ipython-input-4-294ede50fe47>\", line 6, in check\n",
      "    results = sparql.query().convert()[\"results\"][\"bindings\"][0][\"a\"][\"value\"]\n",
      "IndexError: list index out of range\n"
     ]
    },
    {
     "name": "stdout",
     "output_type": "stream",
     "text": [
      "error\n",
      "<http://dbpedia.org/resource/Beyoncé_Knowles> <http://dbpedia.org/resource/Vallejo,_California>\n",
      "4900\n",
      "error\n",
      "<http://dbpedia.org/resource/Arthur_Wellesley,_1st_Duke_of_Wellington> <http://dbpedia.org/resource/Minneapolis>\n"
     ]
    },
    {
     "name": "stderr",
     "output_type": "stream",
     "text": [
      "Traceback (most recent call last):\n",
      "  File \"<ipython-input-4-294ede50fe47>\", line 6, in check\n",
      "    results = sparql.query().convert()[\"results\"][\"bindings\"][0][\"a\"][\"value\"]\n",
      "IndexError: list index out of range\n"
     ]
    },
    {
     "name": "stdout",
     "output_type": "stream",
     "text": [
      " worked \n",
      "error\n",
      "<http://dbpedia.org/resource/Justin_James> <http://dbpedia.org/resource/Sacramento_Kings>\n",
      "error\n",
      "<http://dbpedia.org/resource/Justin_James> <http://dbpedia.org/resource/Sacramento_Kings>\n"
     ]
    },
    {
     "name": "stderr",
     "output_type": "stream",
     "text": [
      "Traceback (most recent call last):\n",
      "  File \"<ipython-input-4-294ede50fe47>\", line 6, in check\n",
      "    results = sparql.query().convert()[\"results\"][\"bindings\"][0][\"a\"][\"value\"]\n",
      "IndexError: list index out of range\n"
     ]
    },
    {
     "name": "stdout",
     "output_type": "stream",
     "text": [
      "4950\n",
      "error\n",
      "<http://dbpedia.org/resource/Cornelis_Janssens_van_Ceulen> <http://dbpedia.org/resource/London>\n",
      "error\n",
      "<http://dbpedia.org/resource/Cornelis_Janssens_van_Ceulen> <http://dbpedia.org/resource/London>\n"
     ]
    },
    {
     "name": "stderr",
     "output_type": "stream",
     "text": [
      "Traceback (most recent call last):\n",
      "  File \"<ipython-input-4-294ede50fe47>\", line 6, in check\n",
      "    results = sparql.query().convert()[\"results\"][\"bindings\"][0][\"a\"][\"value\"]\n",
      "IndexError: list index out of range\n"
     ]
    },
    {
     "name": "stdout",
     "output_type": "stream",
     "text": [
      "5000\n",
      "error\n",
      "<http://dbpedia.org/resource/Johannes_Vilhelm_Jensen> <http://dbpedia.org/resource/Nobel_Prize_in_Literature>\n",
      "error\n",
      "<http://dbpedia.org/resource/Johannes_Vilhelm_Jensen> <http://dbpedia.org/resource/Nobel_Prize_in_Literature>\n"
     ]
    },
    {
     "name": "stderr",
     "output_type": "stream",
     "text": [
      "Traceback (most recent call last):\n",
      "  File \"<ipython-input-4-294ede50fe47>\", line 6, in check\n",
      "    results = sparql.query().convert()[\"results\"][\"bindings\"][0][\"a\"][\"value\"]\n",
      "IndexError: list index out of range\n"
     ]
    },
    {
     "name": "stdout",
     "output_type": "stream",
     "text": [
      "5050\n",
      "error\n",
      "<http://dbpedia.org/resource/Adobe_Systems> <http://dbpedia.org/resource/Mountain_View,_California>\n",
      "error\n",
      "<http://dbpedia.org/resource/Adobe_Systems> <http://dbpedia.org/resource/Mountain_View,_California>\n"
     ]
    },
    {
     "name": "stderr",
     "output_type": "stream",
     "text": [
      "Traceback (most recent call last):\n",
      "  File \"<ipython-input-4-294ede50fe47>\", line 6, in check\n",
      "    results = sparql.query().convert()[\"results\"][\"bindings\"][0][\"a\"][\"value\"]\n",
      "IndexError: list index out of range\n"
     ]
    },
    {
     "name": "stdout",
     "output_type": "stream",
     "text": [
      "5100\n",
      "error\n",
      "<http://dbpedia.org/resource/Christina,_Queen_of_Sweden> <http://dbpedia.org/resource/Rome>\n",
      " worked \n"
     ]
    },
    {
     "name": "stderr",
     "output_type": "stream",
     "text": [
      "Traceback (most recent call last):\n",
      "  File \"<ipython-input-4-294ede50fe47>\", line 6, in check\n",
      "    results = sparql.query().convert()[\"results\"][\"bindings\"][0][\"a\"][\"value\"]\n",
      "IndexError: list index out of range\n"
     ]
    },
    {
     "name": "stdout",
     "output_type": "stream",
     "text": [
      "error\n",
      "<http://dbpedia.org/resource/Jack_White_(musician)> <http://dbpedia.org/resource/Karen_Elson>\n"
     ]
    },
    {
     "name": "stderr",
     "output_type": "stream",
     "text": [
      "Traceback (most recent call last):\n",
      "  File \"<ipython-input-4-294ede50fe47>\", line 6, in check\n",
      "    results = sparql.query().convert()[\"results\"][\"bindings\"][0][\"a\"][\"value\"]\n",
      "IndexError: list index out of range\n"
     ]
    },
    {
     "name": "stdout",
     "output_type": "stream",
     "text": [
      "error\n",
      "<http://dbpedia.org/resource/Jack_White_(musician)> <http://dbpedia.org/resource/Karen_Elson>\n",
      "5150\n",
      "5200\n",
      "error\n",
      "<http://dbpedia.org/resource/Seven_(film)> <http://dbpedia.org/resource/Rob_Lowe>\n",
      "error\n",
      "<http://dbpedia.org/resource/Seven_(film)> <http://dbpedia.org/resource/Rob_Lowe>\n"
     ]
    },
    {
     "name": "stderr",
     "output_type": "stream",
     "text": [
      "Traceback (most recent call last):\n",
      "  File \"<ipython-input-4-294ede50fe47>\", line 6, in check\n",
      "    results = sparql.query().convert()[\"results\"][\"bindings\"][0][\"a\"][\"value\"]\n",
      "IndexError: list index out of range\n"
     ]
    },
    {
     "name": "stdout",
     "output_type": "stream",
     "text": [
      "5250\n",
      "5300\n",
      "error\n",
      "<http://dbpedia.org/resource/T.J._McConnell> <http://dbpedia.org/resource/Indiana_Pacers>\n",
      "error\n",
      "<http://dbpedia.org/resource/T.J._McConnell> <http://dbpedia.org/resource/Indiana_Pacers>\n"
     ]
    },
    {
     "name": "stderr",
     "output_type": "stream",
     "text": [
      "Traceback (most recent call last):\n",
      "  File \"<ipython-input-4-294ede50fe47>\", line 6, in check\n",
      "    results = sparql.query().convert()[\"results\"][\"bindings\"][0][\"a\"][\"value\"]\n",
      "IndexError: list index out of range\n"
     ]
    },
    {
     "name": "stdout",
     "output_type": "stream",
     "text": [
      "5350\n"
     ]
    }
   ],
   "source": [
    "s=None\n",
    "o=None\n",
    "p=None\n",
    "answer=None\n",
    "flag=False\n",
    "dataset_id=None\n",
    "\n",
    "sparql = SPARQLWrapper(\"http://dbpedia.org/sparql\")\n",
    "with open('submit.nt', 'w') as f:\n",
    "\n",
    "    \n",
    "    for i,row in data_test.iterrows():\n",
    "        if i%50==0:\n",
    "            print(i)\n",
    "        if row[\"3\"]==\"<http://www.w3.org/1999/02/22-rdf-syntax-ns#Statement>\":\n",
    "            s=None\n",
    "            o=None\n",
    "            p=None\n",
    "            answer=None\n",
    "            flag=False\n",
    "            dataset_id=None\n",
    "            continue \n",
    "\n",
    "        \n",
    "        if row[\"2\"]==\"<http://www.w3.org/1999/02/22-rdf-syntax-ns#subject>\":\n",
    "            s=row[\"3\"]\n",
    "            dataset_id=row[\"1\"]\n",
    "            continue\n",
    "         \n",
    "        if row[\"2\"]==\"<http://www.w3.org/1999/02/22-rdf-syntax-ns#object>\":\n",
    "            o=row[\"3\"]\n",
    "            flag=True\n",
    "     \n",
    "        if flag==True:\n",
    "            my_answer=check(s,o,sparql)\n",
    "            line=dataset_id+ \" \"+\"<http://swc2017.aksw.org/hasTruthValue> \"+'\"'+my_answer+'\"'+\"^^<http://www.w3.org/2001/XMLSchema#double> .\\n\"\n",
    "            f.write(line)\n",
    "    f.close()"
   ]
  },
  {
   "cell_type": "code",
   "execution_count": null,
   "id": "separate-editing",
   "metadata": {},
   "outputs": [],
   "source": []
  }
 ],
 "metadata": {
  "kernelspec": {
   "display_name": "Python 3",
   "language": "python",
   "name": "python3"
  },
  "language_info": {
   "codemirror_mode": {
    "name": "ipython",
    "version": 3
   },
   "file_extension": ".py",
   "mimetype": "text/x-python",
   "name": "python",
   "nbconvert_exporter": "python",
   "pygments_lexer": "ipython3",
   "version": "3.8.5"
  }
 },
 "nbformat": 4,
 "nbformat_minor": 5
}
